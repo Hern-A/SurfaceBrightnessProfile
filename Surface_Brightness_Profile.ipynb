{
 "cells": [
  {
   "cell_type": "markdown",
   "id": "b0126f30",
   "metadata": {},
   "source": [
    "# Project: Surface Brightness Profile & Sérsic Fit for NGC 4467 (SDSS DR19, g-band)\n",
    "### Goal: Build a quantitative 1D surface-brightness (SB) profile for the elliptical galaxy NGC 4467 from an SDSS corrected frame (g-band), fit a Sérsic model with free index $n$, and report:\n",
    "- Effective surface brightness $\\mu_e$ (mag arcsec$^{-2}$)\n",
    "- Effective radius $R_e$ (arcsec and kpc)\n",
    "- Sérsic index $n$\n",
    "- Goodness of fit (e.g., reduced $\\chi^2$, residual trends)\n",
    "- Total apparent magnitude $m_g$ and absolute magnitude $M_g$\n",
    "- Central surface brightness $\\mu_0$ (mag arcsec$^{-2}$)\n",
    "- A brief Hubble-type estimate (e.g., E2/E3) from the isophote geometry\n",
    "#### Data & units.\n",
    "- SDSS DR19 corrected frames are calibrated in nanomaggies per pixel.\n",
    "- Pixel scale: $s = 0.396\\ \\text{arcsec/pixel}$.\n",
    "- Magnitude conversion (Pogson): $m = 22.5 - 2.5\\log_{10}(\\text{flux in nanomaggies})$.\n",
    "- SB in mag arcsec$^{-2}$ requires converting per pixel flux to per arcsec$^2$ via division by $s^2$.\n",
    "#### Method overview.\n",
    "- Load & inspect the image; note NGC 4467 may be off-center and near the bright halo of M49 (NGC 4472)—background handling and masking matter.\n",
    "- Estimate & subtract a smooth background (SEP) to remove large-scale gradients.\n",
    "- Detect sources (SEP), get a first guess of the galaxy center, and mask stars/compact sources that would bias isophote fitting.\n",
    "- (Optional) Light smoothing to stabilize isophote solutions.\n",
    "- Elliptical-isophote fitting (Photutils Ellipse) from $r \\gtrsim 1''$ out to $\\sim 100''$ where S/N allows.\n",
    "- Convert to SB: nanomaggies/pixel $\\rightarrow$ nanomaggies/arcsec$^2$ $\\rightarrow$ mag arcsec$^{-2}$.\n",
    "- Fit Sérsic model in magnitude space:\n",
    "\n",
    "- Assess fit (overlay + residuals), derive $\\mu_e, R_e, n$, compute $\\mu_0=\\mu_e-1.0857,b_n$.\n",
    "- Measure total flux with a large elliptical aperture; convert to $m_g$, then to $M_g$ with your adopted distance.\n",
    "- Convert $R_e$ to kpc using $1'' = 0.004848,D_{\\rm Mpc}\\ \\text{kpc}$.\n",
    "#### Deliverables.\n",
    "- Figure: SB profile (mag arcsec$^{-2}$ vs. arcsec) with Sérsic fit overlaid; y-axis inverted.\n",
    "- Table/paragraph with $\\mu_e, R_e$ (arcsec, kpc), $n$, $\\chi^2_\\nu$, $\\mu_0$, $m_g$, $M_g$.\n",
    "- Brief Hubble-type classification and notes on masking/background choices.\n",
    "\n",
    "\n",
    "\n",
    "[NGC 4467](https://skyserver.sdss.org/dr19/VisualTools/explore/summary?name=ngc%204467&ra=187.3760197403200&dec=+07.9928537142600)"
   ]
  },
  {
   "cell_type": "markdown",
   "id": "ee0723a1",
   "metadata": {},
   "source": [
    "### 1. Imports & Global Settings"
   ]
  },
  {
   "cell_type": "code",
   "execution_count": null,
   "id": "6b861f4f",
   "metadata": {},
   "outputs": [],
   "source": [
    "from pathlib import Path\n",
    "import numpy as np\n",
    "from astropy.io import fits\n",
    "from astropy.wcs import WCS\n",
    "from astropy.stats import sigma_clipped_stats\n",
    "from astropy.visualization import ZScaleInterval, ImageNormalize\n",
    "from astropy.convolution import Gaussian2DKernel, convolve\n",
    "import matplotlib.pyplot as plt\n",
    "\n",
    "import sep  # Source Extractor in Python (pip install sep)\n",
    "from photutils.isophote import EllipseGeometry, Ellipse, build_ellipse_model\n",
    "from photutils.aperture import EllipticalAperture"
   ]
  },
  {
   "cell_type": "markdown",
   "id": "fca8bfad",
   "metadata": {},
   "source": [
    "### 2.  Load FITS & quick-look display\n",
    "- Opens the SDSS g-band corrected frame FITS.\n",
    "- Extracts the primary image and header; builds a WCS (if present).\n",
    "- Displays a zscaled image to inspect centering, neighbors, and artifacts."
   ]
  },
  {
   "cell_type": "code",
   "execution_count": null,
   "id": "2f4db0dd",
   "metadata": {},
   "outputs": [],
   "source": [
    "fits_path = Path(\"C:/Users/andre/Desktop/Astro/GalacticAstronomy/HW1/frame-g-002168-5-0147.fits\")\n",
    "hdul = fits.open(sorted(Path('.').glob('*.fits'))[0])\n",
    "img = hdul[0].data.astype(np.float32)\n",
    "hdr = hdul[0].header\n",
    "wcs = WCS(hdr)\n",
    "hdul.close()\n",
    "\n",
    "# quick display\n",
    "norm = ImageNormalize(img, interval=ZScaleInterval())\n",
    "plt.figure(figsize=(6,6))\n",
    "plt.imshow(img, origin='lower', cmap='gray', norm=norm)\n",
    "plt.title(\"SDSS g-band corrected frame\")\n",
    "plt.colorbar(label='flux [nanomaggies/pixel]')\n",
    "plt.show()"
   ]
  },
  {
   "cell_type": "markdown",
   "id": "e05887bc",
   "metadata": {},
   "source": [
    "### 3. Background estimation & subtraction\n",
    "- Computes a smooth background map and RMS (noise) with SEP.\n",
    "- Subtracts the background to produce a flattened image.\n",
    "- Shows a 3-panel figure: original, background, and background-subtracted."
   ]
  },
  {
   "cell_type": "code",
   "execution_count": null,
   "id": "10a08f7f",
   "metadata": {},
   "outputs": [],
   "source": [
    "# SEP expects C-contiguous, float32\n",
    "data = img.copy()\n",
    "bkg = sep.Background(data, bw=64, bh=64, fw=3, fh=3)\n",
    "bkg_sub = data - bkg.back()\n",
    "bkg_rms = bkg.rms()\n",
    "\n",
    "plt.figure(figsize=(12,4))\n",
    "plt.subplot(1,3,1); plt.imshow(data, origin='lower', cmap='gray', norm=norm); plt.title('original')\n",
    "plt.subplot(1,3,2); plt.imshow(bkg.back(), origin='lower', cmap='gray'); plt.title('background')\n",
    "plt.subplot(1,3,3); plt.imshow(bkg_sub, origin='lower', cmap='gray', norm=norm); plt.title('background-subtracted')\n",
    "plt.tight_layout(); plt.show()"
   ]
  },
  {
   "cell_type": "markdown",
   "id": "fd0e11a2",
   "metadata": {},
   "source": [
    "### 4. Source detection, center estimate, & star/compact-source mask\n",
    "- Detects sources with SEP on the background-subtracted image.\n",
    "- Picks a galaxy center guess from the brightest/largest detection.\n",
    "- Builds an elliptical mask around other sources (likely stars/compact galaxies), grown by a factor to be safe."
   ]
  },
  {
   "cell_type": "code",
   "execution_count": null,
   "id": "de4b4a1a",
   "metadata": {},
   "outputs": [],
   "source": [
    "objects = sep.extract(bkg_sub, thresh=2.0, err=bkg_rms, minarea=10)\n",
    "\n",
    "# crude guess of galaxy center: pick the largest object by area/flux\n",
    "idx = np.argmax(objects['flux'])\n",
    "x0, y0 = objects['x'][idx], objects['y'][idx]\n",
    "\n",
    "# build a mask for obvious stars/compact sources (exclude the big one we think is the galaxy)\n",
    "mask = np.zeros_like(bkg_sub, dtype=bool)\n",
    "for i, obj in enumerate(objects):\n",
    "    if i == idx:\n",
    "        continue\n",
    "    a, b, theta = obj['a'], obj['b'], obj['theta']\n",
    "    # Grow the mask a bit:\n",
    "    ra, rb = 2.5*a, 2.5*b\n",
    "    yy, xx = np.indices(img.shape)\n",
    "    cos_t, sin_t = np.cos(theta), np.sin(theta)\n",
    "    dx, dy = xx - obj['x'], yy - obj['y']\n",
    "    r = ((dx*cos_t + dy*sin_t)**2)/(ra**2) + ((dy*cos_t - dx*sin_t)**2)/(rb**2)\n",
    "    mask |= (r <= 1.0)\n",
    "\n",
    "# Also mask obvious negative/NaN pixels\n",
    "mask |= ~np.isfinite(bkg_sub)"
   ]
  },
  {
   "cell_type": "markdown",
   "id": "d3972f4b",
   "metadata": {},
   "source": [
    "### 5. Optional light smoothing\n",
    "- Applies a small Gaussian blur (σ ≈ 1 px) to the background-subtracted image.\n",
    "- Replaces masked pixels with NaN to exclude them from fitting."
   ]
  },
  {
   "cell_type": "code",
   "execution_count": null,
   "id": "33c79633",
   "metadata": {},
   "outputs": [],
   "source": [
    "sm = convolve(bkg_sub, Gaussian2DKernel(x_stddev=1.0))\n",
    "data_for_fit = np.where(mask, np.nan, sm)"
   ]
  },
  {
   "cell_type": "markdown",
   "id": "9d4b2681",
   "metadata": {},
   "source": [
    "### 6. Ellipse fitting: configuration & run\n",
    "- Sets the pixel scale $s=0.396''/\\text{px}$.\n",
    "- Defines the radial range: start just beyond 1 arcsec to avoid seeing, aim for $\\sim 100''$ if S/N allows.\n",
    "- Initializes ellipse geometry (center, ellipticity, PA) and runs Ellipse.fit_image."
   ]
  },
  {
   "cell_type": "code",
   "execution_count": null,
   "id": "65bc90db",
   "metadata": {},
   "outputs": [],
   "source": [
    "s = 0.396  # arcsec/pix\n",
    "r_min_pix = int(np.ceil(1.0 / s))       # > 1 arcsec\n",
    "r_max_pix = int(np.floor(100.0 / s))    # ~100 arcsec\n",
    "step = 1.10  # multiplicative radial step\n",
    "\n",
    "# Initial ellipse geometry\n",
    "geom = EllipseGeometry(x0=x0, y0=y0, sma=r_min_pix, eps=0.2, pa=np.deg2rad(0.0))\n",
    "\n",
    "ellipse = Ellipse(data_for_fit, geometry=geom)\n",
    "isolist = ellipse.fit_image(minsma=r_min_pix, maxsma=r_max_pix, step=step, \n",
    "                            linear=False, conver=0.05, maxgerr=0.5)"
   ]
  },
  {
   "cell_type": "markdown",
   "id": "8daf3cf4",
   "metadata": {},
   "source": [
    "### 7. Extract 1D isophotal profile arrays\n",
    "- Pulls semi-major axis radii (pixels), mean intensities (nanomaggies per pixel), and per-annulus errors from the isophote list.\n",
    "- Removes NaNs/zeros and converts radii to arcsec."
   ]
  },
  {
   "cell_type": "code",
   "execution_count": null,
   "id": "fde24744",
   "metadata": {},
   "outputs": [],
   "source": [
    "sma_pix = np.array([iso.sma for iso in isolist])        # semi-major axis [pixels]\n",
    "intens = np.array([iso.intens for iso in isolist])      # nanomaggies/pixel\n",
    "ierr   = np.array([iso.int_err for iso in isolist])     # per-pixel uncertainty\n",
    "good = np.isfinite(intens) & np.isfinite(ierr) & (ierr > 0)\n",
    "sma_pix, intens, ierr = sma_pix[good], intens[good], ierr[good]\n",
    "r_arcsec = sma_pix * s"
   ]
  },
  {
   "cell_type": "markdown",
   "id": "047586ca",
   "metadata": {},
   "source": [
    "### 8. Convert intensities to surface brightness (mag arcsec$^{-2}$) + errors\n",
    "- Converts per pixel intensity to per arcsec$^2$ via division by $s^2$.\n",
    "- Applies Pogson conversion to get $\\mu_g$ (mag arcsec$^{-2}$).\n",
    "- Propagates errors: $$\\sigma_\\mu \\approx \\frac{2.5}{\\ln{10}} \\frac{\\sigma_I}{I}$$ where the area factor cancels in the ratio."
   ]
  },
  {
   "cell_type": "code",
   "execution_count": null,
   "id": "83eb552f",
   "metadata": {},
   "outputs": [],
   "source": [
    "# per arcsec^2 = per pixel / s^2\n",
    "I_arc = intens / (s**2)\n",
    "mu = 22.5 - 2.5*np.log10(I_arc)\n",
    "mu_err = (2.5/np.log(10)) * (ierr/(intens))  # same area factor cancels"
   ]
  },
  {
   "cell_type": "markdown",
   "id": "c2325343",
   "metadata": {},
   "source": [
    "### 9. Quick-look plot of the SB profile\n",
    "- Plots $\\mu_g$ vs. $r$ (arcsec) with error bars.\n",
    "- Inverts the y-axis (brighter at the top) as customary for SB plots."
   ]
  },
  {
   "cell_type": "code",
   "execution_count": null,
   "id": "57a3905f",
   "metadata": {},
   "outputs": [],
   "source": [
    "plt.figure(figsize=(6,4))\n",
    "plt.errorbar(r_arcsec, mu, yerr=mu_err, fmt='.', ms=3)\n",
    "plt.gca().invert_yaxis()\n",
    "plt.xlabel('Semi-major axis r  [arcsec]')\n",
    "plt.ylabel(r'$\\mu_g$  [mag arcsec$^{-2}$]')\n",
    "plt.title('NGC 4467 — SB profile (g)')\n",
    "plt.show()"
   ]
  },
  {
   "cell_type": "markdown",
   "id": "526a9416",
   "metadata": {},
   "source": [
    "### 10. Define Sérsic model & fit $(\\mu_e, R_e, n)$ with uncertainties\n",
    "- Implements $b_n(n)$ and the Sérsic $\\mu(r)$ model in magnitude units.\n",
    "- Fits the model to the selected radial range using scipy.optimize.curve_fit, with data uncertainties for proper weighting.\n",
    "- Returns best-fit parameters and their 1σ errors from the covariance matrix."
   ]
  },
  {
   "cell_type": "code",
   "execution_count": null,
   "id": "25e34066",
   "metadata": {},
   "outputs": [],
   "source": [
    "from scipy.optimize import curve_fit\n",
    "\n",
    "def b_n(n):\n",
    "    return 2.0*n - 1.0/3.0 + 0.009876/n\n",
    "\n",
    "def mu_sersic(r, mu_e, Re, n):\n",
    "    return mu_e + 1.0857 * b_n(n) * ((r/Re)**(1.0/n) - 1.0)\n",
    "\n",
    "# optional: clip extreme radii by S/N\n",
    "sel = (r_arcsec > 1.0)  # you can also limit max radius by S/N if needed\n",
    "x, y, yerr = r_arcsec[sel], mu[sel], mu_err[sel]\n",
    "\n",
    "p0 = (np.nanmedian(mu[(r_arcsec>2)&(r_arcsec<5)]), 5.0, 2.0)  # rough guess\n",
    "bounds = ([10.0, 0.2, 0.2], [30.0, 200.0, 8.0])\n",
    "\n",
    "popt, pcov = curve_fit(mu_sersic, x, y, p0=p0, sigma=yerr, absolute_sigma=True, bounds=bounds, maxfev=50000)\n",
    "mu_e_fit, Re_fit, n_fit = popt\n",
    "perr = np.sqrt(np.diag(pcov))\n",
    "mu_e_err, Re_err, n_err = perr\n",
    "\n",
    "# goodness-of-fit\n",
    "resid = y - mu_sersic(x, *popt)\n",
    "chi2 = np.sum((resid/yerr)**2)\n",
    "dof = len(x) - len(popt)\n",
    "chi2_red = chi2 / dof\n",
    "\n",
    "# Plot\n",
    "xx = np.linspace(x.min(), x.max(), 400)\n",
    "plt.figure(figsize=(6,4))\n",
    "plt.errorbar(x, y, yerr=yerr, fmt='.', ms=3, label='data')\n",
    "plt.plot(xx, mu_sersic(xx, *popt), '-', label=f\"Sérsic fit: n={n_fit:.2f}, Re={Re_fit:.1f}\\\"\")\n",
    "plt.gca().invert_yaxis()\n",
    "plt.xlabel('r [arcsec]'); plt.ylabel(r'$\\mu_g$ [mag arcsec$^{-2}$]')\n",
    "plt.legend(); plt.title(f'NGC 4467 — Sérsic fit (χ²_red={chi2_red:.2f})')\n",
    "plt.show()"
   ]
  },
  {
   "cell_type": "markdown",
   "id": "9bff8999",
   "metadata": {},
   "source": [
    "### 11. Compute central surface brightness $\\mu_0$\n",
    "- Uses the Sérsic identity: $$\\mu_0=\\mu_e - 1.0857 b_n (n)$$ to extrapolate the central SB (mag arcsec $^{-2}$)."
   ]
  },
  {
   "cell_type": "code",
   "execution_count": null,
   "id": "b2dabfd7",
   "metadata": {},
   "outputs": [],
   "source": [
    "mu0 = mu_e_fit - 1.0857 * b_n(n_fit)"
   ]
  },
  {
   "cell_type": "markdown",
   "id": "3165337f",
   "metadata": {},
   "source": [
    "### 12. Total apparent flux and magnitude $m_g$ (large elliptical aperture)\n",
    "- Selects a representative outer isophote for geometry (center, PA, ellipticity).\n",
    "- Performs elliptical aperture photometry out to a semi-major axis that encloses essentially all light in the frame (within reason).\n",
    "- Converts total nanomaggies to apparent magnitude $m_g$."
   ]
  },
  {
   "cell_type": "code",
   "execution_count": null,
   "id": "85258505",
   "metadata": {},
   "outputs": [],
   "source": [
    "# choose an outer isophote as geometry template (e.g., ~80-100\")\n",
    "iso_outer = isolist[-5]  # adjust if the last few are noisy\n",
    "x0, y0 = iso_outer.x0, iso_outer.y0\n",
    "eps, pa = iso_outer.eps, iso_outer.pa\n",
    "b_over_a = 1.0 - eps\n",
    "\n",
    "a_ap_pix = int(min(iso_outer.sma*1.05, r_max_pix))  # small safety margin\n",
    "ap = EllipticalAperture((x0, y0), a_ap_pix, a_ap_pix*b_over_a, theta=pa)\n",
    "flux_tot = ap.do_photometry(bkg_sub, method='exact', mask=mask)[0][0]  # nanomaggies\n",
    "m_app = 22.5 - 2.5*np.log10(flux_tot)\n",
    "print(\"Total apparent g magnitude:\", m_app)"
   ]
  },
  {
   "cell_type": "markdown",
   "id": "68022efd",
   "metadata": {},
   "source": [
    "### 13. Convert $R_e$ from arcsec to kpc\n",
    "- Converts the effective radius to physical units with: $$1\"=0.004848 \\, D_{Mpc} \\, kpc, R_{e,kpc}=R_{e,arcsec} \\times 0.004848 \\times D_{Mpc}$$"
   ]
  },
  {
   "cell_type": "code",
   "execution_count": null,
   "id": "514fccb9",
   "metadata": {},
   "outputs": [],
   "source": [
    "D_Mpc = ...  # fill in\n",
    "Re_kpc = Re_fit * 0.004848 * D_Mpc"
   ]
  },
  {
   "cell_type": "markdown",
   "id": "0a8c6f06",
   "metadata": {},
   "source": [
    "### 14. Plot"
   ]
  },
  {
   "cell_type": "code",
   "execution_count": null,
   "id": "54abe446",
   "metadata": {},
   "outputs": [],
   "source": [
    "plt.figure(figsize=(6,3))\n",
    "plt.scatter(x, resid, s=6)\n",
    "plt.axhline(0, color='k', lw=1)\n",
    "plt.xlabel('r [arcsec]'); plt.ylabel('Δμ (data - model) [mag/arcsec²]')\n",
    "plt.title('Residuals (Sérsic)')\n",
    "plt.show()"
   ]
  },
  {
   "cell_type": "markdown",
   "id": "d0a86e55",
   "metadata": {},
   "source": [
    "### 15. Residual diagnostics & 2D model sanity check\n",
    "- Plots 1D residuals $Δ𝜇$ vs. radius to reveal systematic deviations from the model.\n",
    "- Builds a 2D ellipse-based model from the isophotes and shows data / model / residual images side-by-side."
   ]
  },
  {
   "cell_type": "code",
   "execution_count": null,
   "id": "87709130",
   "metadata": {},
   "outputs": [],
   "source": [
    "model = build_ellipse_model(data_for_fit.shape, isolist)\n",
    "resid2d = data_for_fit - model\n",
    "plt.figure(figsize=(12,4))\n",
    "for i,(im,t) in enumerate([(data_for_fit,'data'), (model,'model'), (resid2d,'residual')]):\n",
    "    plt.subplot(1,3,i+1); plt.imshow(im, origin='lower', cmap='gray', norm=norm); plt.title(t)\n",
    "plt.tight_layout(); plt.show()"
   ]
  }
 ],
 "metadata": {
  "kernelspec": {
   "display_name": "astro",
   "language": "python",
   "name": "python3"
  },
  "language_info": {
   "codemirror_mode": {
    "name": "ipython",
    "version": 3
   },
   "file_extension": ".py",
   "mimetype": "text/x-python",
   "name": "python",
   "nbconvert_exporter": "python",
   "pygments_lexer": "ipython3",
   "version": "3.11.2"
  }
 },
 "nbformat": 4,
 "nbformat_minor": 5
}
